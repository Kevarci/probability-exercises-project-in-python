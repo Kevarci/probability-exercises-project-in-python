{
 "cells": [
  {
   "cell_type": "markdown",
   "id": "a41f3622",
   "metadata": {},
   "source": [
    "# Ejercicios de probabilidad"
   ]
  },
  {
   "cell_type": "markdown",
   "id": "a6bdbd89",
   "metadata": {},
   "source": [
    "## Ejercicio 1 \n",
    "\n",
    "Dos dados se lanzan una vez y se observa el total obtenido. Usa una simulación para encontrar la probabilidad estimada de que la puntuación sea mayor a 7 o un número par. Una simulación es una repetición del mismo experimento multiples veces para observar su comportamiento:\n",
    "\n",
    "- Ejecuta el experimento 1000 veces (lanza 2 dados 1000 veces, y suma el número de ambos dados).\n",
    "- Lleva ua cuenta de los números y las veces que la suma fue mayor a 7 o un número par.\n",
    "- Divide el número del paso 2 entre el número de iteraciones(1000)."
   ]
  },
  {
   "cell_type": "code",
   "execution_count": 18,
   "id": "8939d892",
   "metadata": {},
   "outputs": [
    {
     "name": "stdout",
     "output_type": "stream",
     "text": [
      "Probabilidad estimada: 0.737\n"
     ]
    }
   ],
   "source": [
    "import random \n",
    "\n",
    "trials = 1000\n",
    "count = 0\n",
    "\n",
    "for _ in range(trials):\n",
    "    dice_roll = random.choice(range(2, 13))\n",
    "    if dice_roll > 7 or dice_roll % 2 == 0:\n",
    "        count += 1\n",
    "    \n",
    "\n",
    "prob_result = count/trials \n",
    "\n",
    "print(f'Probabilidad estimada: {prob_result}')"
   ]
  },
  {
   "cell_type": "markdown",
   "id": "55732bca",
   "metadata": {},
   "source": [
    "## Ejercicio 2\n",
    "\n",
    "Una caja contiene 10 bolas blancas, 20 bolas rojas y 30 bolas verdes. Si tomamos 5 bolas de la caja reemplazándolas (tomando una bola, anotando el color y luego regresandola a la caja). Queremos saber la probabilidad de:\n",
    "\n",
    "1. Tomar 3 blancas y 2 rojas.\n",
    "2. Toas todas del mismo color.\n",
    "\n",
    "Ejecuta el experimento 1000 veces y calcula las probabilidades que mencionadas."
   ]
  },
  {
   "cell_type": "code",
   "execution_count": 27,
   "id": "23244d20",
   "metadata": {},
   "outputs": [
    {
     "name": "stdout",
     "output_type": "stream",
     "text": [
      "Probabilidad estimada para el saque de 3 bolas blancas y 2 rojas: 0.005\n",
      "Probabilidad estimada para el saque de todas del mismo color: 0.033\n"
     ]
    }
   ],
   "source": [
    "ball_box = {}\n",
    "\n",
    "# Crea la cajas con las bolas\n",
    "for i in range(60):\n",
    "    if i < 10:\n",
    "        ball_box[i] = \"White\"\n",
    "    elif (i > 9) and (i < 30):\n",
    "        ball_box[i] = \"Red\"\n",
    "    else:\n",
    "        ball_box[i] = \"Green\"\n",
    "\n",
    "#print(ball_box)\n",
    "            \n",
    "trials = 1000\n",
    "white_red_ball = 0\n",
    "all_color_ball = 0\n",
    "\n",
    "for _ in range(trials):\n",
    "    selection = []\n",
    "    for _ in range(5):\n",
    "        selection.append(random.choice(ball_box))\n",
    "\n",
    "    \n",
    "    White = selection.count('White')\n",
    "    Red = selection.count('Red')\n",
    "    Green = selection.count('Green')\n",
    "\n",
    "    if White == 3 and Red == 2:\n",
    "        white_red_ball += 1 \n",
    "\n",
    "    if White == 5 or Red == 5 or Green == 5:\n",
    "        all_color_ball += 1\n",
    "\n",
    "prob_white_and_red = white_red_ball / trials \n",
    "prob_all_color = all_color_ball / trials\n",
    "\n",
    "print(f'Probabilidad estimada para el saque de 3 bolas blancas y 2 rojas: {prob_white_and_red}')\n",
    "print(f'Probabilidad estimada para el saque de todas del mismo color: {prob_all_color}')"
   ]
  }
 ],
 "metadata": {
  "kernelspec": {
   "display_name": "Python 3",
   "language": "python",
   "name": "python3"
  },
  "language_info": {
   "codemirror_mode": {
    "name": "ipython",
    "version": 3
   },
   "file_extension": ".py",
   "mimetype": "text/x-python",
   "name": "python",
   "nbconvert_exporter": "python",
   "pygments_lexer": "ipython3",
   "version": "3.11.4"
  }
 },
 "nbformat": 4,
 "nbformat_minor": 5
}
